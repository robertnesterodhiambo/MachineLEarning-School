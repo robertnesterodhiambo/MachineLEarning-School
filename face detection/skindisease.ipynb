{
 "cells": [
  {
   "cell_type": "code",
   "execution_count": 4,
   "metadata": {},
   "outputs": [
    {
     "name": "stdout",
     "output_type": "stream",
     "text": [
      "Found 697 images belonging to 9 classes.\n"
     ]
    },
    {
     "name": "stdout",
     "output_type": "stream",
     "text": [
      "Found 181 images belonging to 9 classes.\n",
      "WARNING:tensorflow:`input_shape` is undefined or non-square, or `rows` is not in [96, 128, 160, 192, 224]. Weights for input shape (224, 224) will be loaded as the default.\n",
      "Downloading data from https://storage.googleapis.com/tensorflow/keras-applications/mobilenet_v2/mobilenet_v2_weights_tf_dim_ordering_tf_kernels_1.0_224_no_top.h5\n",
      "9406464/9406464 [==============================] - 19s 2us/step\n"
     ]
    },
    {
     "name": "stderr",
     "output_type": "stream",
     "text": [
      "WARNING:absl:`lr` is deprecated in Keras optimizer, please use `learning_rate` or use the legacy optimizer, e.g.,tf.keras.optimizers.legacy.Adam.\n"
     ]
    },
    {
     "name": "stdout",
     "output_type": "stream",
     "text": [
      "Epoch 1/10\n"
     ]
    },
    {
     "name": "stderr",
     "output_type": "stream",
     "text": [
      "2024-03-08 04:25:16.629990: W external/local_tsl/tsl/framework/cpu_allocator_impl.cc:83] Allocation of 154140672 exceeds 10% of free system memory.\n",
      "2024-03-08 04:25:16.840089: W external/local_tsl/tsl/framework/cpu_allocator_impl.cc:83] Allocation of 154140672 exceeds 10% of free system memory.\n",
      "2024-03-08 04:25:19.159233: W external/local_tsl/tsl/framework/cpu_allocator_impl.cc:83] Allocation of 156905472 exceeds 10% of free system memory.\n",
      "2024-03-08 04:25:21.243596: W external/local_tsl/tsl/framework/cpu_allocator_impl.cc:83] Allocation of 57802752 exceeds 10% of free system memory.\n",
      "2024-03-08 04:25:21.304530: W external/local_tsl/tsl/framework/cpu_allocator_impl.cc:83] Allocation of 57802752 exceeds 10% of free system memory.\n"
     ]
    },
    {
     "name": "stdout",
     "output_type": "stream",
     "text": [
      "21/21 [==============================] - 234s 9s/step - loss: 1.2952 - accuracy: 0.5684 - val_loss: 14.6723 - val_accuracy: 0.1187\n",
      "Epoch 2/10\n",
      "21/21 [==============================] - 149s 7s/step - loss: 0.6823 - accuracy: 0.7654 - val_loss: 12.6973 - val_accuracy: 0.1250\n",
      "Epoch 3/10\n",
      "21/21 [==============================] - 176s 8s/step - loss: 0.4148 - accuracy: 0.8662 - val_loss: 21.4724 - val_accuracy: 0.1000\n",
      "Epoch 4/10\n",
      "21/21 [==============================] - 212s 10s/step - loss: 0.3882 - accuracy: 0.8602 - val_loss: 20.3269 - val_accuracy: 0.1688\n",
      "Epoch 5/10\n",
      "21/21 [==============================] - 188s 9s/step - loss: 0.3607 - accuracy: 0.8872 - val_loss: 23.0654 - val_accuracy: 0.1187\n",
      "Epoch 6/10\n",
      "21/21 [==============================] - 160s 8s/step - loss: 0.2424 - accuracy: 0.9083 - val_loss: 22.0756 - val_accuracy: 0.1437\n",
      "Epoch 7/10\n",
      "21/21 [==============================] - 155s 7s/step - loss: 0.2488 - accuracy: 0.9293 - val_loss: 12.8833 - val_accuracy: 0.1625\n",
      "Epoch 8/10\n",
      "21/21 [==============================] - 159s 8s/step - loss: 0.3454 - accuracy: 0.8842 - val_loss: 15.1344 - val_accuracy: 0.1250\n",
      "Epoch 9/10\n",
      "21/21 [==============================] - 150s 7s/step - loss: 0.2641 - accuracy: 0.9143 - val_loss: 30.5044 - val_accuracy: 0.1000\n",
      "Epoch 10/10\n",
      "21/21 [==============================] - 166s 8s/step - loss: 0.2059 - accuracy: 0.9429 - val_loss: 37.3039 - val_accuracy: 0.1000\n"
     ]
    },
    {
     "name": "stderr",
     "output_type": "stream",
     "text": [
      "/home/dragon/.local/lib/python3.11/site-packages/keras/src/engine/training.py:3103: UserWarning: You are saving your model as an HDF5 file via `model.save()`. This file format is considered legacy. We recommend using instead the native Keras format, e.g. `model.save('my_model.keras')`.\n",
      "  saving_api.save_model(\n"
     ]
    }
   ],
   "source": [
    "import os\n",
    "from keras.preprocessing.image import ImageDataGenerator\n",
    "from keras.applications import MobileNetV2\n",
    "from keras.layers import GlobalAveragePooling2D, Dense\n",
    "from keras.models import Model\n",
    "from keras.optimizers import Adam\n",
    "\n",
    "# Data loading\n",
    "train_datagen = ImageDataGenerator(rescale=1./255)\n",
    "train_generator = train_datagen.flow_from_directory(\n",
    "    '/home/dragon/repos/datasets/train',\n",
    "    target_size=(224, 224),\n",
    "    batch_size=32,\n",
    "    class_mode='categorical'\n",
    ")\n",
    "\n",
    "val_datagen = ImageDataGenerator(rescale=1./255)\n",
    "val_generator = val_datagen.flow_from_directory(\n",
    "    '/home/dragon/repos/datasets/val',\n",
    "    target_size=(224, 224),\n",
    "    batch_size=32,\n",
    "    class_mode='categorical'\n",
    ")\n",
    "\n",
    "# Model building\n",
    "base_model = MobileNetV2(weights='imagenet', include_top=False)\n",
    "x = base_model.output\n",
    "x = GlobalAveragePooling2D()(x)\n",
    "x = Dense(1024, activation='relu')(x)\n",
    "predictions = Dense(train_generator.num_classes, activation='softmax')(x)\n",
    "model = Model(inputs=base_model.input, outputs=predictions)\n",
    "\n",
    "# Compile the model\n",
    "model.compile(optimizer=Adam(lr=0.001),\n",
    "              loss='categorical_crossentropy',\n",
    "              metrics=['accuracy'])\n",
    "\n",
    "# Train the model\n",
    "model.fit(\n",
    "    train_generator,\n",
    "    steps_per_epoch=train_generator.samples // train_generator.batch_size,\n",
    "    epochs=10,\n",
    "    validation_data=val_generator,\n",
    "    validation_steps=val_generator.samples // val_generator.batch_size\n",
    ")\n",
    "\n",
    "# Save the model\n",
    "model.save('skin_disease_detection_model.h5')\n"
   ]
  },
  {
   "cell_type": "code",
   "execution_count": null,
   "metadata": {},
   "outputs": [],
   "source": []
  }
 ],
 "metadata": {
  "kernelspec": {
   "display_name": "Python 3",
   "language": "python",
   "name": "python3"
  },
  "language_info": {
   "codemirror_mode": {
    "name": "ipython",
    "version": 3
   },
   "file_extension": ".py",
   "mimetype": "text/x-python",
   "name": "python",
   "nbconvert_exporter": "python",
   "pygments_lexer": "ipython3",
   "version": "3.11.6"
  }
 },
 "nbformat": 4,
 "nbformat_minor": 2
}
