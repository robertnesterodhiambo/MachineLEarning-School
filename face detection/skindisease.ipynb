{
 "cells": [
  {
   "cell_type": "code",
   "execution_count": 4,
   "metadata": {},
   "outputs": [
    {
     "name": "stdout",
     "output_type": "stream",
     "text": [
      "Found 697 images belonging to 9 classes.\n"
     ]
    },
    {
     "name": "stdout",
     "output_type": "stream",
     "text": [
      "Found 181 images belonging to 9 classes.\n",
      "WARNING:tensorflow:`input_shape` is undefined or non-square, or `rows` is not in [96, 128, 160, 192, 224]. Weights for input shape (224, 224) will be loaded as the default.\n",
      "Downloading data from https://storage.googleapis.com/tensorflow/keras-applications/mobilenet_v2/mobilenet_v2_weights_tf_dim_ordering_tf_kernels_1.0_224_no_top.h5\n",
      "9406464/9406464 [==============================] - 19s 2us/step\n"
     ]
    },
    {
     "name": "stderr",
     "output_type": "stream",
     "text": [
      "WARNING:absl:`lr` is deprecated in Keras optimizer, please use `learning_rate` or use the legacy optimizer, e.g.,tf.keras.optimizers.legacy.Adam.\n"
     ]
    },
    {
     "name": "stdout",
     "output_type": "stream",
     "text": [
      "Epoch 1/10\n"
     ]
    },
    {
     "name": "stderr",
     "output_type": "stream",
     "text": [
      "2024-03-08 04:25:16.629990: W external/local_tsl/tsl/framework/cpu_allocator_impl.cc:83] Allocation of 154140672 exceeds 10% of free system memory.\n",
      "2024-03-08 04:25:16.840089: W external/local_tsl/tsl/framework/cpu_allocator_impl.cc:83] Allocation of 154140672 exceeds 10% of free system memory.\n",
      "2024-03-08 04:25:19.159233: W external/local_tsl/tsl/framework/cpu_allocator_impl.cc:83] Allocation of 156905472 exceeds 10% of free system memory.\n",
      "2024-03-08 04:25:21.243596: W external/local_tsl/tsl/framework/cpu_allocator_impl.cc:83] Allocation of 57802752 exceeds 10% of free system memory.\n",
      "2024-03-08 04:25:21.304530: W external/local_tsl/tsl/framework/cpu_allocator_impl.cc:83] Allocation of 57802752 exceeds 10% of free system memory.\n"
     ]
    },
    {
     "name": "stdout",
     "output_type": "stream",
     "text": [
      "21/21 [==============================] - 234s 9s/step - loss: 1.2952 - accuracy: 0.5684 - val_loss: 14.6723 - val_accuracy: 0.1187\n",
      "Epoch 2/10\n",
      "21/21 [==============================] - 149s 7s/step - loss: 0.6823 - accuracy: 0.7654 - val_loss: 12.6973 - val_accuracy: 0.1250\n",
      "Epoch 3/10\n",
      "21/21 [==============================] - 176s 8s/step - loss: 0.4148 - accuracy: 0.8662 - val_loss: 21.4724 - val_accuracy: 0.1000\n",
      "Epoch 4/10\n",
      "21/21 [==============================] - 212s 10s/step - loss: 0.3882 - accuracy: 0.8602 - val_loss: 20.3269 - val_accuracy: 0.1688\n",
      "Epoch 5/10\n",
      "21/21 [==============================] - 188s 9s/step - loss: 0.3607 - accuracy: 0.8872 - val_loss: 23.0654 - val_accuracy: 0.1187\n",
      "Epoch 6/10\n",
      "21/21 [==============================] - 160s 8s/step - loss: 0.2424 - accuracy: 0.9083 - val_loss: 22.0756 - val_accuracy: 0.1437\n",
      "Epoch 7/10\n",
      "21/21 [==============================] - 155s 7s/step - loss: 0.2488 - accuracy: 0.9293 - val_loss: 12.8833 - val_accuracy: 0.1625\n",
      "Epoch 8/10\n",
      "21/21 [==============================] - 159s 8s/step - loss: 0.3454 - accuracy: 0.8842 - val_loss: 15.1344 - val_accuracy: 0.1250\n",
      "Epoch 9/10\n",
      "21/21 [==============================] - 150s 7s/step - loss: 0.2641 - accuracy: 0.9143 - val_loss: 30.5044 - val_accuracy: 0.1000\n",
      "Epoch 10/10\n",
      "21/21 [==============================] - 166s 8s/step - loss: 0.2059 - accuracy: 0.9429 - val_loss: 37.3039 - val_accuracy: 0.1000\n"
     ]
    },
    {
     "name": "stderr",
     "output_type": "stream",
     "text": [
      "/home/dragon/.local/lib/python3.11/site-packages/keras/src/engine/training.py:3103: UserWarning: You are saving your model as an HDF5 file via `model.save()`. This file format is considered legacy. We recommend using instead the native Keras format, e.g. `model.save('my_model.keras')`.\n",
      "  saving_api.save_model(\n"
     ]
    }
   ],
   "source": [
    "import os\n",
    "from keras.preprocessing.image import ImageDataGenerator\n",
    "from keras.applications import MobileNetV2\n",
    "from keras.layers import GlobalAveragePooling2D, Dense\n",
    "from keras.models import Model\n",
    "from keras.optimizers import Adam\n",
    "\n",
    "# Data loading\n",
    "train_datagen = ImageDataGenerator(rescale=1./255)\n",
    "train_generator = train_datagen.flow_from_directory(\n",
    "    '/home/dragon/repos/datasets/train',\n",
    "    target_size=(224, 224),\n",
    "    batch_size=32,\n",
    "    class_mode='categorical'\n",
    ")\n",
    "\n",
    "val_datagen = ImageDataGenerator(rescale=1./255)\n",
    "val_generator = val_datagen.flow_from_directory(\n",
    "    '/home/dragon/repos/datasets/val',\n",
    "    target_size=(224, 224),\n",
    "    batch_size=32,\n",
    "    class_mode='categorical'\n",
    ")\n",
    "\n",
    "# Model building\n",
    "base_model = MobileNetV2(weights='imagenet', include_top=False)\n",
    "x = base_model.output\n",
    "x = GlobalAveragePooling2D()(x)\n",
    "x = Dense(1024, activation='relu')(x)\n",
    "predictions = Dense(train_generator.num_classes, activation='softmax')(x)\n",
    "model = Model(inputs=base_model.input, outputs=predictions)\n",
    "\n",
    "# Compile the model\n",
    "model.compile(optimizer=Adam(lr=0.001),\n",
    "              loss='categorical_crossentropy',\n",
    "              metrics=['accuracy'])\n",
    "\n",
    "# Train the model\n",
    "model.fit(\n",
    "    train_generator,\n",
    "    steps_per_epoch=train_generator.samples // train_generator.batch_size,\n",
    "    epochs=10,\n",
    "    validation_data=val_generator,\n",
    "    validation_steps=val_generator.samples // val_generator.batch_size\n",
    ")\n",
    "\n",
    "# Save the model\n",
    "model.save('skin_disease_detection_model.h5')\n"
   ]
  },
  {
   "cell_type": "code",
   "execution_count": 5,
   "metadata": {},
   "outputs": [
    {
     "name": "stdout",
     "output_type": "stream",
     "text": [
      "Found 697 images belonging to 9 classes.\n",
      "Found 181 images belonging to 9 classes.\n",
      "Downloading data from https://storage.googleapis.com/tensorflow/keras-applications/resnet/resnet50_weights_tf_dim_ordering_tf_kernels_notop.h5\n",
      "94765736/94765736 [==============================] - 174s 2us/step\n"
     ]
    },
    {
     "name": "stderr",
     "output_type": "stream",
     "text": [
      "WARNING:absl:`lr` is deprecated in Keras optimizer, please use `learning_rate` or use the legacy optimizer, e.g.,tf.keras.optimizers.legacy.Adam.\n"
     ]
    },
    {
     "name": "stdout",
     "output_type": "stream",
     "text": [
      "Epoch 1/10\n",
      "21/21 [==============================] - 422s 17s/step - loss: 2.3400 - accuracy: 0.0977 - val_loss: 2.2529 - val_accuracy: 0.1063\n",
      "Epoch 2/10\n",
      "21/21 [==============================] - 316s 15s/step - loss: 2.2680 - accuracy: 0.0977 - val_loss: 2.2278 - val_accuracy: 0.1187\n",
      "Epoch 3/10\n",
      "21/21 [==============================] - 234s 11s/step - loss: 2.2456 - accuracy: 0.1173 - val_loss: 2.2197 - val_accuracy: 0.1125\n",
      "Epoch 4/10\n",
      "21/21 [==============================] - 168s 8s/step - loss: 2.2301 - accuracy: 0.1038 - val_loss: 2.2209 - val_accuracy: 0.1937\n",
      "Epoch 5/10\n",
      "21/21 [==============================] - 164s 8s/step - loss: 2.2355 - accuracy: 0.1203 - val_loss: 2.2414 - val_accuracy: 0.1187\n",
      "Epoch 6/10\n",
      "21/21 [==============================] - 185s 9s/step - loss: 2.2259 - accuracy: 0.1248 - val_loss: 2.2239 - val_accuracy: 0.1750\n",
      "Epoch 7/10\n",
      "21/21 [==============================] - 158s 8s/step - loss: 2.2137 - accuracy: 0.1278 - val_loss: 2.1964 - val_accuracy: 0.1250\n",
      "Epoch 8/10\n",
      "21/21 [==============================] - 160s 8s/step - loss: 2.1991 - accuracy: 0.1353 - val_loss: 2.2461 - val_accuracy: 0.1250\n",
      "Epoch 9/10\n",
      "21/21 [==============================] - 173s 8s/step - loss: 2.2033 - accuracy: 0.1188 - val_loss: 2.1896 - val_accuracy: 0.1500\n",
      "Epoch 10/10\n",
      "21/21 [==============================] - 176s 8s/step - loss: 2.1764 - accuracy: 0.1607 - val_loss: 2.1984 - val_accuracy: 0.1187\n",
      "5/5 [==============================] - 27s 5s/step - loss: 2.2017 - accuracy: 0.1187\n",
      "Validation loss: 2.2017\n",
      "Validation accuracy: 0.1187\n"
     ]
    }
   ],
   "source": [
    "from tensorflow.keras.preprocessing.image import ImageDataGenerator\n",
    "from tensorflow.keras.applications import ResNet50\n",
    "from tensorflow.keras.layers import Dense, GlobalAveragePooling2D\n",
    "from tensorflow.keras.models import Model\n",
    "from tensorflow.keras.optimizers import Adam\n",
    "\n",
    "# Data loading\n",
    "train_datagen = ImageDataGenerator(\n",
    "    rescale=1./255,\n",
    "    rotation_range=20,\n",
    "    width_shift_range=0.2,\n",
    "    height_shift_range=0.2,\n",
    "    shear_range=0.2,\n",
    "    zoom_range=0.2,\n",
    "    horizontal_flip=True\n",
    ")\n",
    "train_generator = train_datagen.flow_from_directory(\n",
    "    '/home/dragon/repos/datasets/train',\n",
    "    target_size=(224, 224),\n",
    "    batch_size=32,\n",
    "    class_mode='categorical'\n",
    ")\n",
    "\n",
    "val_datagen = ImageDataGenerator(rescale=1./255)\n",
    "val_generator = val_datagen.flow_from_directory(\n",
    "    '/home/dragon/repos/datasets/val',\n",
    "    target_size=(224, 224),\n",
    "    batch_size=32,\n",
    "    class_mode='categorical'\n",
    ")\n",
    "\n",
    "# Load pre-trained ResNet50 model without the top classification layer\n",
    "base_model = ResNet50(weights='imagenet', include_top=False)\n",
    "\n",
    "# Add a global spatial average pooling layer\n",
    "x = base_model.output\n",
    "x = GlobalAveragePooling2D()(x)\n",
    "\n",
    "# Add a fully connected layer with 256 hidden units and ReLU activation\n",
    "x = Dense(256, activation='relu')(x)\n",
    "\n",
    "# Add a final classification layer with softmax activation\n",
    "predictions = Dense(9, activation='softmax')(x)\n",
    "\n",
    "# Combine the base model and the new classification layers\n",
    "model = Model(inputs=base_model.input, outputs=predictions)\n",
    "\n",
    "# Freeze the layers of the base model (only train the new classification layers)\n",
    "for layer in base_model.layers:\n",
    "    layer.trainable = False\n",
    "\n",
    "# Compile the model\n",
    "model.compile(optimizer=Adam(lr=0.001), loss='categorical_crossentropy', metrics=['accuracy'])\n",
    "\n",
    "# Train the model\n",
    "history = model.fit(\n",
    "    train_generator,\n",
    "    steps_per_epoch=train_generator.samples // train_generator.batch_size,\n",
    "    epochs=10,\n",
    "    validation_data=val_generator,\n",
    "    validation_steps=val_generator.samples // val_generator.batch_size\n",
    ")\n",
    "\n",
    "# Evaluate the model\n",
    "loss, accuracy = model.evaluate(val_generator, steps=val_generator.samples // val_generator.batch_size)\n",
    "print(f'Validation loss: {loss:.4f}')\n",
    "print(f'Validation accuracy: {accuracy:.4f}')\n"
   ]
  },
  {
   "cell_type": "code",
   "execution_count": 4,
   "metadata": {},
   "outputs": [
    {
     "name": "stdout",
     "output_type": "stream",
     "text": [
      " * Serving Flask app '__main__'\n",
      " * Debug mode: on\n"
     ]
    },
    {
     "name": "stderr",
     "output_type": "stream",
     "text": [
      "WARNING: This is a development server. Do not use it in a production deployment. Use a production WSGI server instead.\n",
      " * Running on http://127.0.0.1:5033\n",
      "Press CTRL+C to quit\n",
      " * Restarting with stat\n",
      "0.02s - Debugger warning: It seems that frozen modules are being used, which may\n",
      "0.00s - make the debugger miss breakpoints. Please pass -Xfrozen_modules=off\n",
      "0.00s - to python to disable frozen modules.\n",
      "0.00s - Note: Debugging will proceed. Set PYDEVD_DISABLE_FILE_VALIDATION=1 to disable this validation.\n",
      "Traceback (most recent call last):\n",
      "  File \"/home/dragon/.local/lib/python3.11/site-packages/ipykernel_launcher.py\", line 18, in <module>\n",
      "    app.launch_new_instance()\n",
      "  File \"/home/dragon/.local/lib/python3.11/site-packages/traitlets/config/application.py\", line 1074, in launch_instance\n",
      "    app.initialize(argv)\n",
      "  File \"/home/dragon/.local/lib/python3.11/site-packages/traitlets/config/application.py\", line 118, in inner\n",
      "    return method(app, *args, **kwargs)\n",
      "           ^^^^^^^^^^^^^^^^^^^^^^^^^^^^\n",
      "  File \"/home/dragon/.local/lib/python3.11/site-packages/ipykernel/kernelapp.py\", line 692, in initialize\n",
      "    self.init_sockets()\n",
      "  File \"/home/dragon/.local/lib/python3.11/site-packages/ipykernel/kernelapp.py\", line 331, in init_sockets\n",
      "    self.shell_port = self._bind_socket(self.shell_socket, self.shell_port)\n",
      "                      ^^^^^^^^^^^^^^^^^^^^^^^^^^^^^^^^^^^^^^^^^^^^^^^^^^^^^\n",
      "  File \"/home/dragon/.local/lib/python3.11/site-packages/ipykernel/kernelapp.py\", line 253, in _bind_socket\n",
      "    return self._try_bind_socket(s, port)\n",
      "           ^^^^^^^^^^^^^^^^^^^^^^^^^^^^^^\n",
      "  File \"/home/dragon/.local/lib/python3.11/site-packages/ipykernel/kernelapp.py\", line 229, in _try_bind_socket\n",
      "    s.bind(\"tcp://%s:%i\" % (self.ip, port))\n",
      "  File \"/home/dragon/.local/lib/python3.11/site-packages/zmq/sugar/socket.py\", line 232, in bind\n",
      "    super().bind(addr)\n",
      "  File \"zmq/backend/cython/socket.pyx\", line 568, in zmq.backend.cython.socket.Socket.bind\n",
      "  File \"zmq/backend/cython/checkrc.pxd\", line 28, in zmq.backend.cython.checkrc._check_rc\n",
      "zmq.error.ZMQError: Address already in use\n"
     ]
    },
    {
     "ename": "SystemExit",
     "evalue": "1",
     "output_type": "error",
     "traceback": [
      "An exception has occurred, use %tb to see the full traceback.\n",
      "\u001b[0;31mSystemExit\u001b[0m\u001b[0;31m:\u001b[0m 1\n"
     ]
    }
   ],
   "source": [
    "import os\n",
    "import numpy as np\n",
    "from PIL import Image\n",
    "from flask import Flask, request, jsonify, render_template\n",
    "from tensorflow import keras\n",
    "\n",
    "app = Flask(__name__)\n",
    "model = keras.models.load_model('skin_disease_detection_model.h5')\n",
    "target_size = (224, 224)  # Adjust based on your model's input shape\n",
    "\n",
    "def preprocess_image(image):\n",
    "    image = image.resize(target_size)\n",
    "    image = np.array(image) / 255.0  # Normalize pixel values\n",
    "    image = np.expand_dims(image, axis=0)  # Add batch dimension\n",
    "    return image\n",
    "\n",
    "def predict_image(image):\n",
    "    preprocessed_image = preprocess_image(image)\n",
    "    predictions = model.predict(preprocessed_image)\n",
    "    predicted_class = np.argmax(predictions, axis=-1)\n",
    "    return predicted_class\n",
    "\n",
    "@app.route('/')\n",
    "def index():\n",
    "    return render_template('index.html')\n",
    "\n",
    "@app.route('/upload', methods=['POST'])\n",
    "def upload_image():\n",
    "    if 'file' not in request.files:\n",
    "        return jsonify({'error': 'No file part'}), 400\n",
    "\n",
    "    file = request.files['file']\n",
    "    if file.filename == '':\n",
    "        return jsonify({'error': 'No selected file'}), 400\n",
    "\n",
    "    if file:\n",
    "        image = Image.open(file)\n",
    "        predicted_class = predict_image(image)\n",
    "        return render_template('index.html', predicted_class=int(predicted_class))\n",
    "\n",
    "if __name__ == '__main__':\n",
    "    app.run(debug=True)\n"
   ]
  },
  {
   "cell_type": "code",
   "execution_count": 5,
   "metadata": {},
   "outputs": [
    {
     "data": {
      "text/plain": [
       "'/home/dragon/repos/MachineLEarning-School/face detection/skin_disease_detection_model.h5'"
      ]
     },
     "execution_count": 5,
     "metadata": {},
     "output_type": "execute_result"
    },
    {
     "ename": "",
     "evalue": "",
     "output_type": "error",
     "traceback": [
      "\u001b[1;31mThe Kernel crashed while executing code in the current cell or a previous cell. \n",
      "\u001b[1;31mPlease review the code in the cell(s) to identify a possible cause of the failure. \n",
      "\u001b[1;31mClick <a href='https://aka.ms/vscodeJupyterKernelCrash'>here</a> for more info. \n",
      "\u001b[1;31mView Jupyter <a href='command:jupyter.viewOutput'>log</a> for further details."
     ]
    }
   ],
   "source": [
    "# Get the current working directory\n",
    "cwd = os.getcwd()\n",
    "\n",
    "# Construct the path to the model file\n",
    "model_path = os.path.join(cwd, 'skin_disease_detection_model.h5')\n",
    "\n",
    "# Load the model\n",
    "model = keras.models.load_model(model_path)\n",
    "model_path"
   ]
  },
  {
   "cell_type": "code",
   "execution_count": null,
   "metadata": {},
   "outputs": [],
   "source": []
  }
 ],
 "metadata": {
  "kernelspec": {
   "display_name": "Python 3",
   "language": "python",
   "name": "python3"
  },
  "language_info": {
   "codemirror_mode": {
    "name": "ipython",
    "version": 3
   },
   "file_extension": ".py",
   "mimetype": "text/x-python",
   "name": "python",
   "nbconvert_exporter": "python",
   "pygments_lexer": "ipython3",
   "version": "3.11.6"
  }
 },
 "nbformat": 4,
 "nbformat_minor": 2
}
