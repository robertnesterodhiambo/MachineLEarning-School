{
 "cells": [
  {
   "cell_type": "code",
   "execution_count": null,
   "id": "d5668883-769d-426c-a670-05133451da7c",
   "metadata": {},
   "outputs": [],
   "source": [
    "pip install bokeh # this installs bokeh package and takes a while "
   ]
  },
  {
   "cell_type": "code",
   "execution_count": 1,
   "id": "31354cea-a8f5-492d-986b-b708c999aae6",
   "metadata": {
    "tags": []
   },
   "outputs": [],
   "source": [
    "from bokeh.plotting import figure, show\n",
    "from bokeh.models import ColumnDataSource\n",
    "from bokeh.io import output_notebook"
   ]
  },
  {
   "cell_type": "code",
   "execution_count": 2,
   "id": "3ab999be-e695-401f-bf18-2f3e2b0b5e4f",
   "metadata": {
    "tags": []
   },
   "outputs": [],
   "source": [
    "x = [12, 56, 89, 32, 54]\n",
    "y = [95, 26, 24, 28, 51]\n",
    "#creates a dummy df"
   ]
  },
  {
   "cell_type": "code",
   "execution_count": 4,
   "id": "bf684e21-91f3-4032-b0e7-37bdd2a26773",
   "metadata": {
    "tags": []
   },
   "outputs": [],
   "source": [
    "output_notebook()\n",
    "plot = figure(title = \"Scatter plot\", x_axis_label = \"X-axis\", y_axis_label = \"Y-Axis\")\n",
    "plot.circle(x, y, size = 10, color = \"blue\")\n",
    "show(plot)\n",
    "#this plots in anew page\n",
    "#create a figure s first "
   ]
  },
  {
   "cell_type": "code",
   "execution_count": 5,
   "id": "8fbe998b-a1f6-4c20-b99b-e82af71077d7",
   "metadata": {
    "tags": []
   },
   "outputs": [],
   "source": [
    "# creating a line plot\n",
    "plot = figure(title = \"line plot\", x_axis_label = \"X-axis\", y_axis_label = \"Y-Axis\")\n",
    "plot.line(x, y, line_width = 2, line_color = \"purple\", legend_label = 'Line')\n",
    "show(plot)"
   ]
  },
  {
   "cell_type": "code",
   "execution_count": 6,
   "id": "d1b0edd1-5cc9-43ce-b0fc-cfdb3e9d1e79",
   "metadata": {
    "tags": []
   },
   "outputs": [],
   "source": [
    "# box plot\n",
    "#we will create a new df\n",
    "fruits  = [\"A\", \"B\", \"C\", \"D\"]\n",
    "counts = [23, 26, 89,  52]\n",
    "plot = figure(x_range =  fruits, title = \"bar plot\", x_axis_label = \"Fruits\", y_axis_label = \"Countrs\")\n",
    "plot.vbar(x = fruits, top = counts, width = 0.5, color = \"orange\")\n",
    "show(plot)"
   ]
  },
  {
   "cell_type": "code",
   "execution_count": 7,
   "id": "8348a35a-4bbc-4e83-b6a9-9633ab364fdc",
   "metadata": {
    "tags": []
   },
   "outputs": [],
   "source": [
    "#interactive widgets\n",
    "from bokeh.layouts import column\n",
    "from bokeh.models import Slider"
   ]
  },
  {
   "cell_type": "code",
   "execution_count": 9,
   "id": "218e2804-8840-40fa-a3f1-4a5f0039260d",
   "metadata": {
    "tags": []
   },
   "outputs": [
    {
     "name": "stderr",
     "output_type": "stream",
     "text": [
      "WARNING:bokeh.embed.util:\n",
      "You are generating standalone HTML/JS output, but trying to use real Python\n",
      "callbacks (i.e. with on_change or on_event). This combination cannot work.\n",
      "\n",
      "Only JavaScript callbacks may be used with standalone output. For more\n",
      "information on JavaScript callbacks with Bokeh, see:\n",
      "\n",
      "    https://docs.bokeh.org/en/latest/docs/user_guide/interaction/callbacks.html\n",
      "\n",
      "Alternatively, to use real Python callbacks, a Bokeh server application may\n",
      "be used. For more information on building and running Bokeh applications, see:\n",
      "\n",
      "    https://docs.bokeh.org/en/latest/docs/user_guide/server.html\n",
      "\n"
     ]
    }
   ],
   "source": [
    "\n",
    "# Create a figure\n",
    "plot = figure(title='Interactive Plot with Slider', x_axis_label='X-axis', y_axis_label='Y-axis')\n",
    "\n",
    "# Add a scatter plot\n",
    "source = ColumnDataSource(data=dict(x=x, y=y))\n",
    "plot.circle('x', 'y', source=source, size=10, color='blue')\n",
    "\n",
    "# Add a slider\n",
    "slider = Slider(start=1, end=80, value=1, step=1, title='Scale Factor')\n",
    "\n",
    "# Update plot based on slider value\n",
    "def update(attr, old, new):\n",
    "    source.data = dict(x=x, y=[i * slider.value for i in y])\n",
    "\n",
    "slider.on_change('value', update)\n",
    "\n",
    "# Show the plot with the slider\n",
    "layout = column(slider, plot)\n",
    "show(layout)\n",
    "#advance bokeh uses javascript concept toreder the slider functions"
   ]
  },
  {
   "cell_type": "code",
   "execution_count": 10,
   "id": "c10c1f31-6391-4f6b-84fe-35af5b53c66a",
   "metadata": {
    "tags": []
   },
   "outputs": [],
   "source": [
    "#gridplots\n",
    "#to get the gridplot\n",
    "from bokeh.layouts import gridplot\n",
    "x = [12, 56, 89, 32, 54]\n",
    "y = [95, 26, 24, 28, 51]\n",
    "y1 = [56, 89, 23, 19, 37]\n",
    "plot1 = figure(title = \"plot 1\", x_axis_label = \"X-axis\", y_axis_label = \"Y-Axis\")\n",
    "plot2 = figure(title = \"plot2 \", x_axis_label = \"X-axis\", y_axis_label = \"Y-Axis\")\n",
    "plot1.line(x, y, line_width = 2, line_color = \"blue\")\n",
    "plot2.line(x, y1, line_width = 2, line_color = \"green\")\n",
    "#layout of two plots\n",
    "layout = gridplot([[plot1,plot2]])\n",
    "show(layout)\n",
    "#creates a dummy df"
   ]
  }
 ],
 "metadata": {
  "kernelspec": {
   "display_name": "Python 3 (ipykernel)",
   "language": "python",
   "name": "python3"
  },
  "language_info": {
   "codemirror_mode": {
    "name": "ipython",
    "version": 3
   },
   "file_extension": ".py",
   "mimetype": "text/x-python",
   "name": "python",
   "nbconvert_exporter": "python",
   "pygments_lexer": "ipython3",
   "version": "3.11.5"
  }
 },
 "nbformat": 4,
 "nbformat_minor": 5
}
