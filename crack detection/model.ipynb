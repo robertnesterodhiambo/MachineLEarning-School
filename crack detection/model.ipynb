{
 "cells": [
  {
   "cell_type": "code",
   "execution_count": null,
   "metadata": {},
   "outputs": [],
   "source": [
    "import os\n",
    "import cv2\n",
    "import numpy as np\n",
    "\n",
    "# Define the path to the directory containing the images\n",
    "data_dir = \"/home/dragon/Downloads/whatsapp/archive/\"\n",
    "\n",
    "# Define the subfolders containing the negative and positive images\n",
    "negative_folder = os.path.join(data_dir, \"Negative\")\n",
    "positive_folder = os.path.join(data_dir, \"Positive\")\n",
    "\n",
    "# Function to load images from a folder\n",
    "def load_images_from_folder(folder):\n",
    "    images = []\n",
    "    for filename in os.listdir(folder):\n",
    "        img_path = os.path.join(folder, filename)\n",
    "        if os.path.isfile(img_path):\n",
    "            img = cv2.imread(img_path)\n",
    "            if img is not None:\n",
    "                images.append(img)\n",
    "    return images\n",
    "\n",
    "# Load negative and positive images\n",
    "negative_images = load_images_from_folder(negative_folder)\n",
    "positive_images = load_images_from_folder(positive_folder)\n",
    "\n",
    "# Display the number of images loaded\n",
    "print(\"Number of negative images:\", len(negative_images))\n",
    "print(\"Number of positive images:\", len(positive_images))\n",
    "\n",
    "\n"
   ]
  }
 ],
 "metadata": {
  "kernelspec": {
   "display_name": "Python 3",
   "language": "python",
   "name": "python3"
  },
  "language_info": {
   "name": "python",
   "version": "3.12.2"
  }
 },
 "nbformat": 4,
 "nbformat_minor": 2
}
